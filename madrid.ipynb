{
 "cells": [
  {
   "cell_type": "code",
   "execution_count": 3,
   "metadata": {},
   "outputs": [],
   "source": [
    "import pandas as pd\n",
    "import matplotlib.pyplot as plt"
   ]
  },
  {
   "cell_type": "code",
   "execution_count": 75,
   "metadata": {},
   "outputs": [
    {
     "data": {
      "text/html": [
       "<div>\n",
       "<style scoped>\n",
       "    .dataframe tbody tr th:only-of-type {\n",
       "        vertical-align: middle;\n",
       "    }\n",
       "\n",
       "    .dataframe tbody tr th {\n",
       "        vertical-align: top;\n",
       "    }\n",
       "\n",
       "    .dataframe thead th {\n",
       "        text-align: right;\n",
       "    }\n",
       "</style>\n",
       "<table border=\"1\" class=\"dataframe\">\n",
       "  <thead>\n",
       "    <tr style=\"text-align: right;\">\n",
       "      <th></th>\n",
       "      <th>id</th>\n",
       "      <th>fecha</th>\n",
       "      <th>tipo_elem</th>\n",
       "      <th>intensidad</th>\n",
       "      <th>ocupacion</th>\n",
       "      <th>carga</th>\n",
       "      <th>vmed</th>\n",
       "      <th>error</th>\n",
       "      <th>periodo_integracion</th>\n",
       "    </tr>\n",
       "  </thead>\n",
       "  <tbody>\n",
       "    <tr>\n",
       "      <th>0</th>\n",
       "      <td>1001</td>\n",
       "      <td>2023-10-01 00:00:00</td>\n",
       "      <td>C30</td>\n",
       "      <td>1020</td>\n",
       "      <td>3.0</td>\n",
       "      <td>0</td>\n",
       "      <td>60.0</td>\n",
       "      <td>N</td>\n",
       "      <td>5</td>\n",
       "    </tr>\n",
       "    <tr>\n",
       "      <th>1</th>\n",
       "      <td>1001</td>\n",
       "      <td>2023-10-01 00:15:00</td>\n",
       "      <td>C30</td>\n",
       "      <td>828</td>\n",
       "      <td>3.0</td>\n",
       "      <td>0</td>\n",
       "      <td>60.0</td>\n",
       "      <td>N</td>\n",
       "      <td>5</td>\n",
       "    </tr>\n",
       "    <tr>\n",
       "      <th>2</th>\n",
       "      <td>1001</td>\n",
       "      <td>2023-10-01 00:30:00</td>\n",
       "      <td>C30</td>\n",
       "      <td>600</td>\n",
       "      <td>1.0</td>\n",
       "      <td>0</td>\n",
       "      <td>64.0</td>\n",
       "      <td>N</td>\n",
       "      <td>5</td>\n",
       "    </tr>\n",
       "    <tr>\n",
       "      <th>3</th>\n",
       "      <td>1001</td>\n",
       "      <td>2023-10-01 00:45:00</td>\n",
       "      <td>C30</td>\n",
       "      <td>1080</td>\n",
       "      <td>3.0</td>\n",
       "      <td>0</td>\n",
       "      <td>57.0</td>\n",
       "      <td>N</td>\n",
       "      <td>5</td>\n",
       "    </tr>\n",
       "    <tr>\n",
       "      <th>4</th>\n",
       "      <td>1001</td>\n",
       "      <td>2023-10-01 01:00:00</td>\n",
       "      <td>C30</td>\n",
       "      <td>744</td>\n",
       "      <td>2.0</td>\n",
       "      <td>0</td>\n",
       "      <td>55.0</td>\n",
       "      <td>N</td>\n",
       "      <td>5</td>\n",
       "    </tr>\n",
       "  </tbody>\n",
       "</table>\n",
       "</div>"
      ],
      "text/plain": [
       "     id                fecha tipo_elem  intensidad  ocupacion  carga  vmed  \\\n",
       "0  1001  2023-10-01 00:00:00       C30        1020        3.0      0  60.0   \n",
       "1  1001  2023-10-01 00:15:00       C30         828        3.0      0  60.0   \n",
       "2  1001  2023-10-01 00:30:00       C30         600        1.0      0  64.0   \n",
       "3  1001  2023-10-01 00:45:00       C30        1080        3.0      0  57.0   \n",
       "4  1001  2023-10-01 01:00:00       C30         744        2.0      0  55.0   \n",
       "\n",
       "  error  periodo_integracion  \n",
       "0     N                    5  \n",
       "1     N                    5  \n",
       "2     N                    5  \n",
       "3     N                    5  \n",
       "4     N                    5  "
      ]
     },
     "execution_count": 75,
     "metadata": {},
     "output_type": "execute_result"
    }
   ],
   "source": [
    "df = pd.read_csv(\"10-2023.csv\", sep=\";\")\n",
    "df.head()"
   ]
  },
  {
   "cell_type": "code",
   "execution_count": 76,
   "metadata": {},
   "outputs": [
    {
     "data": {
      "text/plain": [
       "{'C30', 'M30', 'URB'}"
      ]
     },
     "execution_count": 76,
     "metadata": {},
     "output_type": "execute_result"
    }
   ],
   "source": [
    "set(df[\"tipo_elem\"])"
   ]
  },
  {
   "cell_type": "code",
   "execution_count": 77,
   "metadata": {},
   "outputs": [
    {
     "data": {
      "text/html": [
       "<div>\n",
       "<style scoped>\n",
       "    .dataframe tbody tr th:only-of-type {\n",
       "        vertical-align: middle;\n",
       "    }\n",
       "\n",
       "    .dataframe tbody tr th {\n",
       "        vertical-align: top;\n",
       "    }\n",
       "\n",
       "    .dataframe thead th {\n",
       "        text-align: right;\n",
       "    }\n",
       "</style>\n",
       "<table border=\"1\" class=\"dataframe\">\n",
       "  <thead>\n",
       "    <tr style=\"text-align: right;\">\n",
       "      <th></th>\n",
       "      <th>id</th>\n",
       "      <th>fecha</th>\n",
       "      <th>tipo_elem</th>\n",
       "      <th>intensidad</th>\n",
       "      <th>ocupacion</th>\n",
       "      <th>carga</th>\n",
       "      <th>vmed</th>\n",
       "      <th>error</th>\n",
       "      <th>periodo_integracion</th>\n",
       "    </tr>\n",
       "  </thead>\n",
       "  <tbody>\n",
       "    <tr>\n",
       "      <th>377879</th>\n",
       "      <td>3488</td>\n",
       "      <td>2023-10-01 00:00:00</td>\n",
       "      <td>M30</td>\n",
       "      <td>2016</td>\n",
       "      <td>4.0</td>\n",
       "      <td>47</td>\n",
       "      <td>85.0</td>\n",
       "      <td>N</td>\n",
       "      <td>15</td>\n",
       "    </tr>\n",
       "    <tr>\n",
       "      <th>377880</th>\n",
       "      <td>3488</td>\n",
       "      <td>2023-10-01 00:15:00</td>\n",
       "      <td>M30</td>\n",
       "      <td>1881</td>\n",
       "      <td>4.0</td>\n",
       "      <td>46</td>\n",
       "      <td>83.0</td>\n",
       "      <td>N</td>\n",
       "      <td>15</td>\n",
       "    </tr>\n",
       "    <tr>\n",
       "      <th>377881</th>\n",
       "      <td>3488</td>\n",
       "      <td>2023-10-01 00:30:00</td>\n",
       "      <td>M30</td>\n",
       "      <td>1912</td>\n",
       "      <td>5.0</td>\n",
       "      <td>43</td>\n",
       "      <td>82.0</td>\n",
       "      <td>N</td>\n",
       "      <td>15</td>\n",
       "    </tr>\n",
       "    <tr>\n",
       "      <th>377882</th>\n",
       "      <td>3488</td>\n",
       "      <td>2023-10-01 00:45:00</td>\n",
       "      <td>M30</td>\n",
       "      <td>1692</td>\n",
       "      <td>5.0</td>\n",
       "      <td>42</td>\n",
       "      <td>84.0</td>\n",
       "      <td>N</td>\n",
       "      <td>15</td>\n",
       "    </tr>\n",
       "    <tr>\n",
       "      <th>377883</th>\n",
       "      <td>3488</td>\n",
       "      <td>2023-10-01 01:00:00</td>\n",
       "      <td>M30</td>\n",
       "      <td>1532</td>\n",
       "      <td>4.0</td>\n",
       "      <td>38</td>\n",
       "      <td>84.0</td>\n",
       "      <td>N</td>\n",
       "      <td>15</td>\n",
       "    </tr>\n",
       "    <tr>\n",
       "      <th>...</th>\n",
       "      <td>...</td>\n",
       "      <td>...</td>\n",
       "      <td>...</td>\n",
       "      <td>...</td>\n",
       "      <td>...</td>\n",
       "      <td>...</td>\n",
       "      <td>...</td>\n",
       "      <td>...</td>\n",
       "      <td>...</td>\n",
       "    </tr>\n",
       "    <tr>\n",
       "      <th>11591546</th>\n",
       "      <td>10662</td>\n",
       "      <td>2023-10-31 22:45:00</td>\n",
       "      <td>M30</td>\n",
       "      <td>232</td>\n",
       "      <td>1.0</td>\n",
       "      <td>14</td>\n",
       "      <td>80.0</td>\n",
       "      <td>N</td>\n",
       "      <td>15</td>\n",
       "    </tr>\n",
       "    <tr>\n",
       "      <th>11591547</th>\n",
       "      <td>10662</td>\n",
       "      <td>2023-10-31 23:00:00</td>\n",
       "      <td>M30</td>\n",
       "      <td>200</td>\n",
       "      <td>1.0</td>\n",
       "      <td>12</td>\n",
       "      <td>83.0</td>\n",
       "      <td>N</td>\n",
       "      <td>15</td>\n",
       "    </tr>\n",
       "    <tr>\n",
       "      <th>11591548</th>\n",
       "      <td>10662</td>\n",
       "      <td>2023-10-31 23:15:00</td>\n",
       "      <td>M30</td>\n",
       "      <td>296</td>\n",
       "      <td>2.0</td>\n",
       "      <td>18</td>\n",
       "      <td>86.0</td>\n",
       "      <td>N</td>\n",
       "      <td>15</td>\n",
       "    </tr>\n",
       "    <tr>\n",
       "      <th>11591549</th>\n",
       "      <td>10662</td>\n",
       "      <td>2023-10-31 23:30:00</td>\n",
       "      <td>M30</td>\n",
       "      <td>305</td>\n",
       "      <td>2.0</td>\n",
       "      <td>17</td>\n",
       "      <td>81.0</td>\n",
       "      <td>N</td>\n",
       "      <td>15</td>\n",
       "    </tr>\n",
       "    <tr>\n",
       "      <th>11591550</th>\n",
       "      <td>10662</td>\n",
       "      <td>2023-10-31 23:45:00</td>\n",
       "      <td>M30</td>\n",
       "      <td>239</td>\n",
       "      <td>2.0</td>\n",
       "      <td>14</td>\n",
       "      <td>75.0</td>\n",
       "      <td>N</td>\n",
       "      <td>15</td>\n",
       "    </tr>\n",
       "  </tbody>\n",
       "</table>\n",
       "<p>811132 rows × 9 columns</p>\n",
       "</div>"
      ],
      "text/plain": [
       "             id                fecha tipo_elem  intensidad  ocupacion  carga  \\\n",
       "377879     3488  2023-10-01 00:00:00       M30        2016        4.0     47   \n",
       "377880     3488  2023-10-01 00:15:00       M30        1881        4.0     46   \n",
       "377881     3488  2023-10-01 00:30:00       M30        1912        5.0     43   \n",
       "377882     3488  2023-10-01 00:45:00       M30        1692        5.0     42   \n",
       "377883     3488  2023-10-01 01:00:00       M30        1532        4.0     38   \n",
       "...         ...                  ...       ...         ...        ...    ...   \n",
       "11591546  10662  2023-10-31 22:45:00       M30         232        1.0     14   \n",
       "11591547  10662  2023-10-31 23:00:00       M30         200        1.0     12   \n",
       "11591548  10662  2023-10-31 23:15:00       M30         296        2.0     18   \n",
       "11591549  10662  2023-10-31 23:30:00       M30         305        2.0     17   \n",
       "11591550  10662  2023-10-31 23:45:00       M30         239        2.0     14   \n",
       "\n",
       "          vmed error  periodo_integracion  \n",
       "377879    85.0     N                   15  \n",
       "377880    83.0     N                   15  \n",
       "377881    82.0     N                   15  \n",
       "377882    84.0     N                   15  \n",
       "377883    84.0     N                   15  \n",
       "...        ...   ...                  ...  \n",
       "11591546  80.0     N                   15  \n",
       "11591547  83.0     N                   15  \n",
       "11591548  86.0     N                   15  \n",
       "11591549  81.0     N                   15  \n",
       "11591550  75.0     N                   15  \n",
       "\n",
       "[811132 rows x 9 columns]"
      ]
     },
     "execution_count": 77,
     "metadata": {},
     "output_type": "execute_result"
    }
   ],
   "source": [
    "df = df[df[\"tipo_elem\"] == \"M30\"]\n",
    "df"
   ]
  },
  {
   "cell_type": "code",
   "execution_count": 78,
   "metadata": {},
   "outputs": [
    {
     "data": {
      "text/plain": [
       "{'M30'}"
      ]
     },
     "execution_count": 78,
     "metadata": {},
     "output_type": "execute_result"
    }
   ],
   "source": [
    "set(df[\"tipo_elem\"])"
   ]
  },
  {
   "cell_type": "code",
   "execution_count": 79,
   "metadata": {},
   "outputs": [
    {
     "name": "stdout",
     "output_type": "stream",
     "text": [
      "<class 'pandas.core.frame.DataFrame'>\n",
      "Int64Index: 811132 entries, 377879 to 11591550\n",
      "Data columns (total 9 columns):\n",
      " #   Column               Non-Null Count   Dtype  \n",
      "---  ------               --------------   -----  \n",
      " 0   id                   811132 non-null  int64  \n",
      " 1   fecha                811132 non-null  object \n",
      " 2   tipo_elem            811132 non-null  object \n",
      " 3   intensidad           811132 non-null  int64  \n",
      " 4   ocupacion            811132 non-null  float64\n",
      " 5   carga                811132 non-null  int64  \n",
      " 6   vmed                 802167 non-null  float64\n",
      " 7   error                786080 non-null  object \n",
      " 8   periodo_integracion  811132 non-null  int64  \n",
      "dtypes: float64(2), int64(4), object(3)\n",
      "memory usage: 61.9+ MB\n"
     ]
    }
   ],
   "source": [
    "df.info()"
   ]
  },
  {
   "cell_type": "code",
   "execution_count": 80,
   "metadata": {},
   "outputs": [],
   "source": [
    "df['fecha'] = pd.to_datetime(df['fecha'])"
   ]
  },
  {
   "cell_type": "code",
   "execution_count": 10,
   "metadata": {},
   "outputs": [
    {
     "name": "stdout",
     "output_type": "stream",
     "text": [
      "<class 'pandas.core.frame.DataFrame'>\n",
      "Int64Index: 811132 entries, 377879 to 11591550\n",
      "Data columns (total 9 columns):\n",
      " #   Column               Non-Null Count   Dtype         \n",
      "---  ------               --------------   -----         \n",
      " 0   id                   811132 non-null  int64         \n",
      " 1   fecha                811132 non-null  datetime64[ns]\n",
      " 2   tipo_elem            811132 non-null  object        \n",
      " 3   intensidad           811132 non-null  int64         \n",
      " 4   ocupacion            811132 non-null  float64       \n",
      " 5   carga                811132 non-null  int64         \n",
      " 6   vmed                 802167 non-null  float64       \n",
      " 7   error                786080 non-null  object        \n",
      " 8   periodo_integracion  811132 non-null  int64         \n",
      "dtypes: datetime64[ns](1), float64(2), int64(4), object(2)\n",
      "memory usage: 61.9+ MB\n"
     ]
    }
   ],
   "source": [
    "df.info()"
   ]
  },
  {
   "cell_type": "code",
   "execution_count": 81,
   "metadata": {},
   "outputs": [
    {
     "data": {
      "text/plain": [
       "[<matplotlib.lines.Line2D at 0x27857072400>]"
      ]
     },
     "execution_count": 81,
     "metadata": {},
     "output_type": "execute_result"
    },
    {
     "data": {
      "image/png": "[encoded data removed]",
      "text/plain": [
       "<Figure size 432x288 with 1 Axes>"
      ]
     },
     "metadata": {
      "needs_background": "light"
     },
     "output_type": "display_data"
    }
   ],
   "source": [
    "aux = df[df[\"id\"] == 3488]\n",
    "aux = aux[aux[\"fecha\"].dt.day == 13]\n",
    "X = aux[\"intensidad\"]\n",
    "y = aux[\"fecha\"]\n",
    "\n",
    "plt.plot(y, X)"
   ]
  },
  {
   "cell_type": "code",
   "execution_count": 82,
   "metadata": {},
   "outputs": [
    {
     "name": "stdout",
     "output_type": "stream",
     "text": [
      "289\n"
     ]
    }
   ],
   "source": [
    "print(len(set(df[\"id\"])))"
   ]
  },
  {
   "cell_type": "code",
   "execution_count": 83,
   "metadata": {},
   "outputs": [],
   "source": [
    "from datetime import datetime\n",
    "\n",
    "filtro1 = (\n",
    "    (df['fecha'].dt.weekday < 5) &  # 0-4 corresponden a lunes a viernes\n",
    "    (df['fecha'].dt.hour >= 6) &\n",
    "    (df['fecha'].dt.hour < 8)\n",
    ")\n",
    "\n",
    "filtro2 = (\n",
    "    (df['fecha'].dt.weekday < 5) &  # 0-4 corresponden a lunes a viernes\n",
    "    (df['fecha'].dt.hour == 8) &\n",
    "    (df['fecha'].dt.minute == 0) &\n",
    "    (df['fecha'].dt.second == 0) \n",
    ")\n",
    "\n",
    "# Aplicar el filtro al DataFrame\n",
    "df_filtrado1 = df[filtro1]\n",
    "df_filtrado2 = df[filtro2]\n",
    "\n",
    "merged_df = pd.concat([df_filtrado1, df_filtrado2])"
   ]
  },
  {
   "cell_type": "code",
   "execution_count": 84,
   "metadata": {},
   "outputs": [
    {
     "data": {
      "text/html": [
       "<div>\n",
       "<style scoped>\n",
       "    .dataframe tbody tr th:only-of-type {\n",
       "        vertical-align: middle;\n",
       "    }\n",
       "\n",
       "    .dataframe tbody tr th {\n",
       "        vertical-align: top;\n",
       "    }\n",
       "\n",
       "    .dataframe thead th {\n",
       "        text-align: right;\n",
       "    }\n",
       "</style>\n",
       "<table border=\"1\" class=\"dataframe\">\n",
       "  <thead>\n",
       "    <tr style=\"text-align: right;\">\n",
       "      <th></th>\n",
       "      <th>id</th>\n",
       "      <th>fecha</th>\n",
       "      <th>tipo_elem</th>\n",
       "      <th>intensidad</th>\n",
       "      <th>ocupacion</th>\n",
       "      <th>carga</th>\n",
       "      <th>vmed</th>\n",
       "      <th>error</th>\n",
       "      <th>periodo_integracion</th>\n",
       "    </tr>\n",
       "  </thead>\n",
       "  <tbody>\n",
       "    <tr>\n",
       "      <th>377999</th>\n",
       "      <td>3488</td>\n",
       "      <td>2023-10-02 06:00:00</td>\n",
       "      <td>M30</td>\n",
       "      <td>1000</td>\n",
       "      <td>2.0</td>\n",
       "      <td>23</td>\n",
       "      <td>94.0</td>\n",
       "      <td>N</td>\n",
       "      <td>15</td>\n",
       "    </tr>\n",
       "    <tr>\n",
       "      <th>378000</th>\n",
       "      <td>3488</td>\n",
       "      <td>2023-10-02 06:15:00</td>\n",
       "      <td>M30</td>\n",
       "      <td>1268</td>\n",
       "      <td>3.0</td>\n",
       "      <td>28</td>\n",
       "      <td>91.0</td>\n",
       "      <td>N</td>\n",
       "      <td>15</td>\n",
       "    </tr>\n",
       "    <tr>\n",
       "      <th>378001</th>\n",
       "      <td>3488</td>\n",
       "      <td>2023-10-02 06:30:00</td>\n",
       "      <td>M30</td>\n",
       "      <td>1352</td>\n",
       "      <td>2.0</td>\n",
       "      <td>31</td>\n",
       "      <td>90.0</td>\n",
       "      <td>N</td>\n",
       "      <td>15</td>\n",
       "    </tr>\n",
       "    <tr>\n",
       "      <th>378002</th>\n",
       "      <td>3488</td>\n",
       "      <td>2023-10-02 06:45:00</td>\n",
       "      <td>M30</td>\n",
       "      <td>1533</td>\n",
       "      <td>3.0</td>\n",
       "      <td>35</td>\n",
       "      <td>90.0</td>\n",
       "      <td>N</td>\n",
       "      <td>15</td>\n",
       "    </tr>\n",
       "    <tr>\n",
       "      <th>378003</th>\n",
       "      <td>3488</td>\n",
       "      <td>2023-10-02 07:00:00</td>\n",
       "      <td>M30</td>\n",
       "      <td>1728</td>\n",
       "      <td>5.0</td>\n",
       "      <td>39</td>\n",
       "      <td>87.0</td>\n",
       "      <td>N</td>\n",
       "      <td>15</td>\n",
       "    </tr>\n",
       "    <tr>\n",
       "      <th>...</th>\n",
       "      <td>...</td>\n",
       "      <td>...</td>\n",
       "      <td>...</td>\n",
       "      <td>...</td>\n",
       "      <td>...</td>\n",
       "      <td>...</td>\n",
       "      <td>...</td>\n",
       "      <td>...</td>\n",
       "      <td>...</td>\n",
       "    </tr>\n",
       "    <tr>\n",
       "      <th>11590911</th>\n",
       "      <td>10662</td>\n",
       "      <td>2023-10-25 08:00:00</td>\n",
       "      <td>M30</td>\n",
       "      <td>904</td>\n",
       "      <td>6.0</td>\n",
       "      <td>52</td>\n",
       "      <td>81.0</td>\n",
       "      <td>N</td>\n",
       "      <td>15</td>\n",
       "    </tr>\n",
       "    <tr>\n",
       "      <th>11591007</th>\n",
       "      <td>10662</td>\n",
       "      <td>2023-10-26 08:00:00</td>\n",
       "      <td>M30</td>\n",
       "      <td>752</td>\n",
       "      <td>5.0</td>\n",
       "      <td>45</td>\n",
       "      <td>82.0</td>\n",
       "      <td>N</td>\n",
       "      <td>15</td>\n",
       "    </tr>\n",
       "    <tr>\n",
       "      <th>11591103</th>\n",
       "      <td>10662</td>\n",
       "      <td>2023-10-27 08:00:00</td>\n",
       "      <td>M30</td>\n",
       "      <td>784</td>\n",
       "      <td>6.0</td>\n",
       "      <td>46</td>\n",
       "      <td>81.0</td>\n",
       "      <td>N</td>\n",
       "      <td>15</td>\n",
       "    </tr>\n",
       "    <tr>\n",
       "      <th>11591391</th>\n",
       "      <td>10662</td>\n",
       "      <td>2023-10-30 08:00:00</td>\n",
       "      <td>M30</td>\n",
       "      <td>800</td>\n",
       "      <td>5.0</td>\n",
       "      <td>48</td>\n",
       "      <td>83.0</td>\n",
       "      <td>N</td>\n",
       "      <td>15</td>\n",
       "    </tr>\n",
       "    <tr>\n",
       "      <th>11591487</th>\n",
       "      <td>10662</td>\n",
       "      <td>2023-10-31 08:00:00</td>\n",
       "      <td>M30</td>\n",
       "      <td>852</td>\n",
       "      <td>6.0</td>\n",
       "      <td>51</td>\n",
       "      <td>83.0</td>\n",
       "      <td>N</td>\n",
       "      <td>15</td>\n",
       "    </tr>\n",
       "  </tbody>\n",
       "</table>\n",
       "<p>52480 rows × 9 columns</p>\n",
       "</div>"
      ],
      "text/plain": [
       "             id               fecha tipo_elem  intensidad  ocupacion  carga  \\\n",
       "377999     3488 2023-10-02 06:00:00       M30        1000        2.0     23   \n",
       "378000     3488 2023-10-02 06:15:00       M30        1268        3.0     28   \n",
       "378001     3488 2023-10-02 06:30:00       M30        1352        2.0     31   \n",
       "378002     3488 2023-10-02 06:45:00       M30        1533        3.0     35   \n",
       "378003     3488 2023-10-02 07:00:00       M30        1728        5.0     39   \n",
       "...         ...                 ...       ...         ...        ...    ...   \n",
       "11590911  10662 2023-10-25 08:00:00       M30         904        6.0     52   \n",
       "11591007  10662 2023-10-26 08:00:00       M30         752        5.0     45   \n",
       "11591103  10662 2023-10-27 08:00:00       M30         784        6.0     46   \n",
       "11591391  10662 2023-10-30 08:00:00       M30         800        5.0     48   \n",
       "11591487  10662 2023-10-31 08:00:00       M30         852        6.0     51   \n",
       "\n",
       "          vmed error  periodo_integracion  \n",
       "377999    94.0     N                   15  \n",
       "378000    91.0     N                   15  \n",
       "378001    90.0     N                   15  \n",
       "378002    90.0     N                   15  \n",
       "378003    87.0     N                   15  \n",
       "...        ...   ...                  ...  \n",
       "11590911  81.0     N                   15  \n",
       "11591007  82.0     N                   15  \n",
       "11591103  81.0     N                   15  \n",
       "11591391  83.0     N                   15  \n",
       "11591487  83.0     N                   15  \n",
       "\n",
       "[52480 rows x 9 columns]"
      ]
     },
     "execution_count": 84,
     "metadata": {},
     "output_type": "execute_result"
    }
   ],
   "source": [
    "merged_df"
   ]
  },
  {
   "cell_type": "code",
   "execution_count": 85,
   "metadata": {},
   "outputs": [],
   "source": [
    "merged_df['fecha'] = pd.to_datetime(merged_df['fecha'])"
   ]
  },
  {
   "cell_type": "code",
   "execution_count": 86,
   "metadata": {},
   "outputs": [],
   "source": [
    "merged_df = merged_df.sort_values(by=[\"id\", \"fecha\"])"
   ]
  },
  {
   "cell_type": "code",
   "execution_count": 87,
   "metadata": {},
   "outputs": [
    {
     "data": {
      "text/html": [
       "<div>\n",
       "<style scoped>\n",
       "    .dataframe tbody tr th:only-of-type {\n",
       "        vertical-align: middle;\n",
       "    }\n",
       "\n",
       "    .dataframe tbody tr th {\n",
       "        vertical-align: top;\n",
       "    }\n",
       "\n",
       "    .dataframe thead th {\n",
       "        text-align: right;\n",
       "    }\n",
       "</style>\n",
       "<table border=\"1\" class=\"dataframe\">\n",
       "  <thead>\n",
       "    <tr style=\"text-align: right;\">\n",
       "      <th></th>\n",
       "      <th>id</th>\n",
       "      <th>fecha</th>\n",
       "      <th>tipo_elem</th>\n",
       "      <th>intensidad</th>\n",
       "      <th>ocupacion</th>\n",
       "      <th>carga</th>\n",
       "      <th>vmed</th>\n",
       "      <th>error</th>\n",
       "      <th>periodo_integracion</th>\n",
       "    </tr>\n",
       "  </thead>\n",
       "  <tbody>\n",
       "    <tr>\n",
       "      <th>377999</th>\n",
       "      <td>3488</td>\n",
       "      <td>2023-10-02 06:00:00</td>\n",
       "      <td>M30</td>\n",
       "      <td>1000</td>\n",
       "      <td>2.0</td>\n",
       "      <td>23</td>\n",
       "      <td>94.0</td>\n",
       "      <td>N</td>\n",
       "      <td>15</td>\n",
       "    </tr>\n",
       "    <tr>\n",
       "      <th>378000</th>\n",
       "      <td>3488</td>\n",
       "      <td>2023-10-02 06:15:00</td>\n",
       "      <td>M30</td>\n",
       "      <td>1268</td>\n",
       "      <td>3.0</td>\n",
       "      <td>28</td>\n",
       "      <td>91.0</td>\n",
       "      <td>N</td>\n",
       "      <td>15</td>\n",
       "    </tr>\n",
       "    <tr>\n",
       "      <th>378001</th>\n",
       "      <td>3488</td>\n",
       "      <td>2023-10-02 06:30:00</td>\n",
       "      <td>M30</td>\n",
       "      <td>1352</td>\n",
       "      <td>2.0</td>\n",
       "      <td>31</td>\n",
       "      <td>90.0</td>\n",
       "      <td>N</td>\n",
       "      <td>15</td>\n",
       "    </tr>\n",
       "    <tr>\n",
       "      <th>378002</th>\n",
       "      <td>3488</td>\n",
       "      <td>2023-10-02 06:45:00</td>\n",
       "      <td>M30</td>\n",
       "      <td>1533</td>\n",
       "      <td>3.0</td>\n",
       "      <td>35</td>\n",
       "      <td>90.0</td>\n",
       "      <td>N</td>\n",
       "      <td>15</td>\n",
       "    </tr>\n",
       "    <tr>\n",
       "      <th>378003</th>\n",
       "      <td>3488</td>\n",
       "      <td>2023-10-02 07:00:00</td>\n",
       "      <td>M30</td>\n",
       "      <td>1728</td>\n",
       "      <td>5.0</td>\n",
       "      <td>39</td>\n",
       "      <td>87.0</td>\n",
       "      <td>N</td>\n",
       "      <td>15</td>\n",
       "    </tr>\n",
       "    <tr>\n",
       "      <th>...</th>\n",
       "      <td>...</td>\n",
       "      <td>...</td>\n",
       "      <td>...</td>\n",
       "      <td>...</td>\n",
       "      <td>...</td>\n",
       "      <td>...</td>\n",
       "      <td>...</td>\n",
       "      <td>...</td>\n",
       "      <td>...</td>\n",
       "    </tr>\n",
       "    <tr>\n",
       "      <th>11591483</th>\n",
       "      <td>10662</td>\n",
       "      <td>2023-10-31 07:00:00</td>\n",
       "      <td>M30</td>\n",
       "      <td>312</td>\n",
       "      <td>3.0</td>\n",
       "      <td>19</td>\n",
       "      <td>83.0</td>\n",
       "      <td>N</td>\n",
       "      <td>15</td>\n",
       "    </tr>\n",
       "    <tr>\n",
       "      <th>11591484</th>\n",
       "      <td>10662</td>\n",
       "      <td>2023-10-31 07:15:00</td>\n",
       "      <td>M30</td>\n",
       "      <td>267</td>\n",
       "      <td>1.0</td>\n",
       "      <td>17</td>\n",
       "      <td>85.0</td>\n",
       "      <td>N</td>\n",
       "      <td>15</td>\n",
       "    </tr>\n",
       "    <tr>\n",
       "      <th>11591485</th>\n",
       "      <td>10662</td>\n",
       "      <td>2023-10-31 07:30:00</td>\n",
       "      <td>M30</td>\n",
       "      <td>457</td>\n",
       "      <td>4.0</td>\n",
       "      <td>28</td>\n",
       "      <td>83.0</td>\n",
       "      <td>N</td>\n",
       "      <td>15</td>\n",
       "    </tr>\n",
       "    <tr>\n",
       "      <th>11591486</th>\n",
       "      <td>10662</td>\n",
       "      <td>2023-10-31 07:45:00</td>\n",
       "      <td>M30</td>\n",
       "      <td>653</td>\n",
       "      <td>4.0</td>\n",
       "      <td>39</td>\n",
       "      <td>85.0</td>\n",
       "      <td>N</td>\n",
       "      <td>15</td>\n",
       "    </tr>\n",
       "    <tr>\n",
       "      <th>11591487</th>\n",
       "      <td>10662</td>\n",
       "      <td>2023-10-31 08:00:00</td>\n",
       "      <td>M30</td>\n",
       "      <td>852</td>\n",
       "      <td>6.0</td>\n",
       "      <td>51</td>\n",
       "      <td>83.0</td>\n",
       "      <td>N</td>\n",
       "      <td>15</td>\n",
       "    </tr>\n",
       "  </tbody>\n",
       "</table>\n",
       "<p>52480 rows × 9 columns</p>\n",
       "</div>"
      ],
      "text/plain": [
       "             id               fecha tipo_elem  intensidad  ocupacion  carga  \\\n",
       "377999     3488 2023-10-02 06:00:00       M30        1000        2.0     23   \n",
       "378000     3488 2023-10-02 06:15:00       M30        1268        3.0     28   \n",
       "378001     3488 2023-10-02 06:30:00       M30        1352        2.0     31   \n",
       "378002     3488 2023-10-02 06:45:00       M30        1533        3.0     35   \n",
       "378003     3488 2023-10-02 07:00:00       M30        1728        5.0     39   \n",
       "...         ...                 ...       ...         ...        ...    ...   \n",
       "11591483  10662 2023-10-31 07:00:00       M30         312        3.0     19   \n",
       "11591484  10662 2023-10-31 07:15:00       M30         267        1.0     17   \n",
       "11591485  10662 2023-10-31 07:30:00       M30         457        4.0     28   \n",
       "11591486  10662 2023-10-31 07:45:00       M30         653        4.0     39   \n",
       "11591487  10662 2023-10-31 08:00:00       M30         852        6.0     51   \n",
       "\n",
       "          vmed error  periodo_integracion  \n",
       "377999    94.0     N                   15  \n",
       "378000    91.0     N                   15  \n",
       "378001    90.0     N                   15  \n",
       "378002    90.0     N                   15  \n",
       "378003    87.0     N                   15  \n",
       "...        ...   ...                  ...  \n",
       "11591483  83.0     N                   15  \n",
       "11591484  85.0     N                   15  \n",
       "11591485  83.0     N                   15  \n",
       "11591486  85.0     N                   15  \n",
       "11591487  83.0     N                   15  \n",
       "\n",
       "[52480 rows x 9 columns]"
      ]
     },
     "execution_count": 87,
     "metadata": {},
     "output_type": "execute_result"
    }
   ],
   "source": [
    "merged_df"
   ]
  },
  {
   "cell_type": "code",
   "execution_count": 88,
   "metadata": {},
   "outputs": [
    {
     "name": "stdout",
     "output_type": "stream",
     "text": [
      "{0, 4, 5, 7, 8, 11, 12, 13, 16, 18, 20, 21, 23, 24, 25, 26, 27, 28, 29, 31, 32, 33, 34, 35, 36, 37, 39, 40, 41, 42, 43, 44, 45, 47, 48, 49, 50, 51, 52, 53, 54, 55, 56, 57, 59, 60, 61, 63, 64, 65, 67, 68, 69, 70, 71, 72, 73, 75, 76, 77, 78, 79, 80, 81, 82, 83, 84, 85, 86, 87, 88, 89, 90, 91, 92, 93, 94, 95, 96, 97, 98, 99, 100, 101, 102, 103, 104, 105, 107, 108, 109, 111, 112, 113, 115, 116, 117, 119, 120, 121, 122, 123, 124, 125, 126, 127, 128, 129, 130, 131, 132, 133, 134, 135, 136, 137, 138, 139, 140, 141, 142, 143, 144, 145, 146, 147, 148, 149, 150, 151, 152, 153, 154, 155, 156, 157, 158, 159, 160, 161, 162, 163, 164, 165, 167, 168, 169, 171, 172, 173, 175, 176, 177, 179, 180, 181, 183, 184, 185, 186, 187, 188, 189, 190, 191, 192, 193, 194, 195, 196, 197, 199, 200, 201, 202, 203, 204, 205, 206, 207, 208, 209, 210, 211, 212, 213, 214, 215, 216, 217, 218, 219, 220, 221, 222, 223, 224, 225, 226, 227, 228, 229, 231, 232, 233, 234, 235, 236, 237, 239, 240, 241, 243, 244, 245, 247, 248, 249, 250, 251, 252, 253, 255, 256, 257, 258, 259, 260, 261, 262, 263, 264, 265, 266, 267, 268, 269, 270, 271, 272, 273, 274, 275, 276, 277, 278, 279, 280, 281, 282, 283, 284, 285, 286, 287, 288, 289, 290, 291, 292, 293, 295, 296, 297, 299, 300, 301, 303, 304, 305, 306, 307, 308, 309, 311, 312, 313, 314, 315, 316, 317, 319, 320, 321, 322, 323, 324, 325, 326, 327, 328, 329, 330, 331, 332, 333, 334, 335, 336, 337, 338, 339, 340, 341, 342, 343, 344, 345, 346, 347, 348, 349, 350, 351, 352, 353, 354, 355, 356, 357, 359, 360, 361, 363, 364, 365, 366, 367, 368, 369, 370, 371, 372, 373, 374, 375, 376, 377, 379, 380, 381, 382, 383, 384, 385, 386, 387, 388, 389, 390, 391, 392, 393, 395, 396, 397, 398, 399, 400, 401, 402, 403, 404, 405, 407, 408, 409, 410, 411, 412, 413, 414, 415, 416, 417, 419, 420, 421, 423, 424, 425, 427, 428, 429, 430, 431, 432, 433, 434, 435, 436, 437, 438, 439, 440, 441, 443, 444, 445, 446, 447, 448, 449, 450, 451, 452, 453, 454, 455, 456, 457, 458, 459, 460, 461, 462, 463, 464, 465, 467, 468, 469, 471, 472, 473, 475, 476, 477, 479, 480, 481, 482, 483, 484, 485, 486, 487, 488, 489, 490, 491, 492, 493, 495, 496, 497, 498, 499, 500, 501, 502, 503, 504, 505, 507, 508, 509, 511, 512, 513, 514, 515, 516, 517, 518, 519, 520, 521, 523, 524, 525, 527, 528, 529, 531, 532, 533, 535, 536, 537, 539, 540, 541, 542, 543, 544, 545, 547, 548, 549, 550, 551, 552, 553, 554, 555, 556, 557, 559, 560, 561, 562, 563, 564, 565, 567, 568, 569, 571, 572, 573, 574, 575, 576, 577, 579, 580, 581, 582, 583, 584, 585, 587, 588, 589, 591, 592, 593, 595, 596, 597, 599, 600, 601, 602, 603, 604, 605, 607, 608, 609, 610, 611, 612, 613, 615, 616, 617, 618, 619, 620, 621, 623, 624, 625, 627, 628, 629, 630, 631, 632, 633, 634, 635, 636, 637, 638, 639, 640, 641, 642, 643, 644, 645, 647, 648, 649, 651, 652, 653, 655, 656, 657, 659, 660, 661, 663, 664, 665, 667, 668, 669, 670, 671, 672, 673, 675, 676, 677, 679, 680, 681, 682, 683, 684, 685, 686, 687, 688, 689, 690, 691, 692, 693, 694, 695, 696, 697, 698, 699, 700, 701, 703, 704, 705, 706, 707, 708, 709, 711, 712, 713, 714, 715, 716, 717, 718, 719, 720, 721, 723, 724, 725, 726, 727, 728, 729, 730, 731, 732, 733, 735, 736, 737, 739, 740, 741, 742, 743, 744, 745, 746, 747, 748, 749, 750, 751, 752, 753, 755, 756, 757, 758, 759, 760, 761, 762, 763, 764, 765, 767, 768, 769, 771, 772, 773, 775, 776, 777, 779, 780, 781, 783, 784, 785, 787, 788, 789, 791, 792, 793, 795, 796, 797, 798, 799, 800, 801, 803, 804, 805, 807, 808, 809, 811, 812, 813, 814, 815, 816, 817, 818, 819, 820, 821, 823, 824, 825, 827, 828, 829, 831, 832, 833, 835, 836, 837, 838, 839, 840, 841, 843, 844, 845, 846, 847, 848, 849, 850, 851, 852, 853, 855, 856, 857, 859, 860, 861, 862, 863, 864, 865, 867, 868, 869, 870, 871, 872, 873, 874, 875, 876, 877, 878, 879, 880, 881, 883, 884, 885, 886, 887, 888, 889, 890, 891, 892, 893, 895, 896, 897, 899, 900, 901, 903, 904, 905, 907, 908, 909, 910, 911, 912, 913, 914, 915, 916, 917, 919, 920, 921, 923, 924, 925, 927, 928, 929, 931, 932, 933, 934, 935, 936, 937, 938, 939, 940, 941, 942, 943, 944, 945, 946, 947, 948, 949, 950, 951, 952, 953, 955, 956, 957, 959, 960, 961, 963, 964, 965, 967, 968, 969, 971, 972, 973, 974, 975, 976, 977, 979, 980, 981, 982, 983, 984, 985, 986, 987, 988, 989, 991, 992, 993, 995, 996, 997, 999, 1000, 1001, 1002, 1003, 1004, 1005, 1007, 1008, 1009, 1010, 1011, 1012, 1013, 1015, 1016, 1017, 1019, 1020, 1021, 1023, 1024, 1025, 1027, 1028, 1029, 1031, 1032, 1033, 1035, 1036, 1037, 1039, 1040, 1041, 1043, 1044, 1045, 1046, 1047, 1048, 1049, 1050, 1051, 1052, 1053, 1055, 1056, 1057, 1058, 1059, 1060, 1061, 1062, 1063, 1064, 1065, 1066, 1067, 1068, 1069, 1071, 1072, 1073, 1074, 1075, 1076, 1077, 1078, 1079, 1080, 1081, 1083, 1084, 1085, 1087, 1088, 1089, 1091, 1092, 1093, 1095, 1096, 1097, 1098, 1099, 1100, 1101, 1103, 1104, 1105, 1106, 1107, 1108, 1109, 1111, 1112, 1113, 1115, 1116, 1117, 1119, 1120, 1121, 1122, 1123, 1124, 1125, 1127, 1128, 1129, 1131, 1132, 1133, 1135, 1136, 1137, 1138, 1139, 1140, 1141, 1143, 1144, 1145, 1147, 1148, 1149, 1150, 1151, 1152, 1153, 1155, 1156, 1157, 1159, 1160, 1161, 1162, 1163, 1164, 1165, 1167, 1168, 1169, 1170, 1171, 1172, 1173, 1174, 1175, 1176, 1177, 1178, 1179, 1180, 1181, 1182, 1183, 1184, 1185, 1187, 1188, 1189, 1191, 1192, 1193, 1195, 1196, 1197, 1199, 1200, 1201, 1203, 1204, 1205, 1206, 1207, 1208, 1209, 1211, 1212, 1213, 1215, 1216, 1217, 1218, 1219, 1220, 1221, 1222, 1223, 1224, 1225, 1226, 1227, 1228, 1229, 1230, 1231, 1232, 1233, 1234, 1235, 1236, 1237, 1238, 1239, 1240, 1241, 1243, 1244, 1245, 1247, 1248, 1249, 1250, 1251, 1252, 1253, 1255, 1256, 1257, 1259, 1260, 1261, 1263, 1264, 1265, 1267, 1268, 1269, 1271, 1272, 1273, 1275, 1276, 1277, 1279, 1280, 1281, 1282, 1283, 1284, 1285, 1287, 1288, 1289, 1291, 1292, 1293, 1294, 1295, 1296, 1297, 1299, 1300, 1301, 1302, 1303, 1304, 1305, 1307, 1308, 1309, 1310, 1311, 1312, 1313, 1315, 1316, 1317, 1319, 1320, 1321, 1323, 1324, 1325, 1327, 1328, 1329, 1331, 1332, 1333, 1334, 1335, 1336, 1337, 1339, 1340, 1341, 1343, 1344, 1345, 1347, 1348, 1349, 1351, 1352, 1353, 1355, 1356, 1357, 1358, 1359, 1360, 1361, 1363, 1364, 1365, 1367, 1368, 1369, 1371, 1372, 1373, 1375, 1376, 1377, 1379, 1380, 1381, 1383, 1384, 1385, 1387, 1388, 1389, 1391, 1392, 1393, 1395, 1396, 1397, 1398, 1399, 1400, 1401, 1402, 1403, 1404, 1405, 1406, 1407, 1408, 1409, 1411, 1412, 1413, 1414, 1415, 1416, 1417, 1419, 1420, 1421, 1422, 1423, 1424, 1425, 1427, 1428, 1429, 1430, 1431, 1432, 1433, 1435, 1436, 1437, 1439, 1440, 1441, 1443, 1444, 1445, 1446, 1447, 1448, 1449, 1451, 1452, 1453, 1455, 1456, 1457, 1459, 1460, 1461, 1463, 1464, 1465, 1467, 1468, 1469, 1470, 1471, 1472, 1473, 1474, 1475, 1476, 1477, 1479, 1480, 1481, 1482, 1483, 1484, 1485, 1487, 1488, 1489, 1491, 1492, 1493, 1495, 1496, 1497, 1499, 1500, 1501, 1503, 1504, 1505, 1507, 1508, 1509, 1510, 1511, 1512, 1513, 1515, 1516, 1517, 1518, 1519, 1520, 1521, 1523, 1524, 1525, 1527, 1528, 1529, 1531, 1532, 1533, 1535, 1536, 1537, 1538, 1539, 1540, 1541, 1543, 1544, 1545, 1546, 1547, 1548, 1549, 1551, 1552, 1553, 1555, 1556, 1557, 1559, 1560, 1561, 1563, 1564, 1565, 1567, 1568, 1569, 1570, 1571, 1572, 1573, 1575, 1576, 1577, 1579, 1580, 1581, 1583, 1584, 1585, 1586, 1587, 1588, 1589, 1590, 1591, 1592, 1593, 1595, 1596, 1597, 1599, 1600, 1601, 1602, 1603, 1604, 1605, 1607, 1608, 1609, 1611, 1612, 1613, 1615, 1616, 1617, 1619, 1620, 1621, 1623, 1624, 1625, 1627, 1628, 1629, 1631, 1632, 1633, 1635, 1636, 1637, 1639, 1640, 1641, 1643, 1644, 1645, 1647, 1648, 1649, 1650, 1651, 1652, 1653, 1654, 1655, 1656, 1657, 1658, 1659, 1660, 1661, 1663, 1664, 1665, 1667, 1668, 1669, 1670, 1671, 1672, 1673, 1674, 1675, 1676, 1677, 1679, 1680, 1681, 1683, 1684, 1685, 1687, 1688, 1689, 1691, 1692, 1693, 1694, 1695, 1696, 1697, 1698, 1699, 1700, 1701, 1703, 1704, 1705, 1707, 1708, 1709, 1710, 1711, 1712, 1713, 1714, 1715, 1716, 1717, 1718, 1719, 1720, 1721, 1723, 1724, 1725, 1728, 1729, 1730, 1731, 1732, 1733, 1735, 1736, 1737, 1739, 1740, 1741, 1743, 1744, 1745, 1746, 1747, 1748, 1749, 1751, 1752, 1753, 1756, 1757, 1758, 1759, 1760, 1761, 1763, 1764, 1765, 1766, 1767, 1768, 1769, 1771, 1772, 1773, 1775, 1776, 1777, 1778, 1779, 1780, 1781, 1783, 1784, 1785, 1787, 1788, 1789, 1791, 1792, 1793, 1795, 1796, 1797, 1799, 1800, 1801, 1803, 1804, 1805, 1807, 1808, 1809, 1811, 1812, 1813, 1815, 1816, 1817, 1819, 1820, 1821, 1823, 1824, 1825, 1826, 1827, 1828, 1829, 1831, 1832, 1833, 1835, 1836, 1837, 1839, 1840, 1841, 1843, 1844, 1845, 1846, 1847, 1848, 1849, 1851, 1852, 1853, 1855, 1856, 1857, 1859, 1860, 1861, 1863, 1864, 1865, 1867, 1868, 1869, 1870, 1871, 1872, 1873, 1876, 1877, 1879, 1880, 1881, 1883, 1884, 1885, 1886, 1887, 1888, 1889, 1890, 1891, 1892, 1893, 1895, 1896, 1897, 1899, 1900, 1901, 1903, 1904, 1905, 1907, 1908, 1909, 1911, 1912, 1913, 1915, 1916, 1917, 1919, 1920, 1921, 1923, 1924, 1925, 1927, 1928, 1929, 1931, 1932, 1933, 1935, 1936, 1937, 1939, 1940, 1941, 1942, 1943, 1944, 1945, 1946, 1947, 1948, 1949, 1951, 1952, 1953, 1955, 1956, 1957, 1959, 1960, 1961, 1963, 1964, 1965, 1967, 1968, 1969, 1971, 1972, 1973, 1975, 1976, 1977, 1979, 1980, 1981, 1983, 1984, 1985, 1987, 1988, 1989, 1991, 1992, 1993, 1995, 1996, 1997, 1999, 2000, 2001, 2003, 2004, 2005, 2006, 2007, 2008, 2009, 2011, 2012, 2013, 2015, 2016, 2017, 2018, 2019, 2020, 2021, 2023, 2024, 2025, 2027, 2028, 2029, 2030, 2031, 2032, 2033, 2035, 2036, 2037, 2039, 2040, 2041, 2043, 2044, 2045, 2047, 2048, 2049, 2051, 2052, 2053, 2055, 2056, 2057, 2059, 2060, 2061, 2063, 2064, 2065, 2067, 2068, 2069, 2071, 2072, 2073, 2075, 2076, 2077, 2079, 2080, 2081, 2082, 2083, 2084, 2085, 2086, 2087, 2088, 2089, 2091, 2092, 2093, 2094, 2095, 2096, 2097, 2099, 2100, 2101, 2102, 2103, 2104, 2105, 2107, 2108, 2109, 2111, 2112, 2113, 2115, 2116, 2117, 2119, 2120, 2121, 2123, 2124, 2125, 2127, 2128, 2129, 2131, 2132, 2133, 2135, 2136, 2137, 2139, 2140, 2141, 2143, 2144, 2145, 2147, 2148, 2149, 2151, 2152, 2153, 2155, 2156, 2157, 2159, 2160, 2161, 2163, 2164, 2165, 2167, 2168, 2169, 2171, 2172, 2173, 2175, 2176, 2177, 2179, 2180, 2181, 2183, 2184, 2185, 2187, 2188, 2189, 2190, 2191, 2192, 2193, 2195, 2196, 2197, 2199, 2200, 2201, 2202, 2203, 2204, 2205, 2207, 2208, 2209, 2211, 2212, 2213, 2215, 2216, 2217, 2219, 2220, 2221, 2223, 2224, 2225, 2226, 2227, 2228, 2229, 2231, 2232, 2233, 2235, 2236, 2237, 2239, 2240, 2241, 2243, 2244, 2245, 2248, 2249, 2251, 2252, 2253, 2255, 2256, 2257, 2259, 2260, 2261, 2263, 2264, 2265, 2266, 2267, 2268, 2269, 2271, 2272, 2273, 2275, 2276, 2277, 2279, 2280, 2281, 2283, 2284, 2285, 2287, 2288, 2289, 2291, 2292, 2293, 2295, 2296, 2297, 2299, 2300, 2301, 2303, 2304, 2305, 2307, 2308, 2309, 2311, 2312, 2313, 2315, 2316, 2317, 2319, 2320, 2321, 2323, 2324, 2325, 2327, 2328, 2329, 2330, 2331, 2332, 2333, 2335, 2336, 2337, 2339, 2340, 2341, 2343, 2344, 2345, 2347, 2348, 2349, 2351, 2352, 2353, 2355, 2356, 2357, 2358, 2359, 2360, 2361, 2363, 2364, 2365, 2367, 2368, 2369, 2371, 2372, 2373, 2374, 2375, 2376, 2377, 2379, 2380, 2381, 2383, 2384, 2385, 2387, 2388, 2389, 2391, 2392, 2393, 2395, 2396, 2397, 2399, 2400, 2401, 2403, 2404, 2405, 2407, 2408, 2409, 2410, 2411, 2412, 2413, 2415, 2416, 2417, 2419, 2420, 2421, 2423, 2424, 2425, 2427, 2428, 2429, 2431, 2432, 2433, 2435, 2436, 2437, 2439, 2440, 2441, 2442, 2443, 2444, 2445, 2447, 2448, 2449, 2451, 2452, 2453, 2455, 2456, 2457, 2459, 2460, 2461, 2463, 2464, 2465, 2467, 2468, 2469, 2471, 2472, 2473, 2474, 2475, 2476, 2477, 2479, 2480, 2481, 2483, 2484, 2487, 2488, 2489, 2490, 2491, 2492, 2493, 2495, 2496, 2497, 2499, 2500, 2501, 2503, 2504, 2505, 2507, 2508, 2509, 2510, 2511, 2512, 2513, 2515, 2516, 2517, 2519, 2520, 2521, 2523, 2524, 2525, 2526, 2528, 2529, 2531, 2532, 2533, 2535, 2536, 2537, 2539, 2540, 2541, 2543, 2544, 2545, 2547, 2548, 2549, 2551, 2552, 2553, 2555, 2556, 2557, 2559, 2560, 2561, 2563, 2564, 2565, 2567, 2568, 2569, 2571, 2572, 2573, 2575, 2576, 2577, 2578, 2579, 2580, 2581, 2583, 2584, 2585, 2587, 2588, 2589, 2591, 2592, 2593, 2595, 2596, 2597, 2599, 2600, 2601, 2603, 2604, 2605, 2607, 2608, 2609, 2611, 2612, 2613, 2615, 2616, 2617, 2619, 2620, 2621, 2623, 2624, 2625, 2627, 2628, 2629, 2631, 2632, 2633, 2635, 2636, 2637, 2639, 2640, 2641, 2643, 2644, 2645, 2647, 2648, 2649, 2651, 2652, 2653, 2655, 2656, 2657, 2659, 2660, 2661, 2663, 2664, 2665, 2667, 2668, 2669, 2670, 2671, 2672, 2673, 2675, 2676, 2677, 2679, 2680, 2681, 2682, 2683, 2684, 2685, 2687, 2688, 2689, 2692, 2693, 2694, 2695, 2696, 2697, 2699, 2700, 2701, 2703, 2704, 2705, 2707, 2708, 2709, 2711, 2712, 2713, 2715, 2716, 2717, 2719, 2720, 2721, 2723, 2724, 2725, 2726, 2727, 2728, 2729, 2730, 2731, 2732, 2733, 2735, 2736, 2737, 2739, 2740, 2741, 2743, 2744, 2745, 2747, 2748, 2749, 2751, 2752, 2753, 2755, 2756, 2757, 2759, 2760, 2761, 2763, 2764, 2765, 2767, 2768, 2769, 2771, 2772, 2773, 2775, 2776, 2777, 2779, 2780, 2781, 2783, 2784, 2785, 2788, 2789, 2792, 2793, 2795, 2796, 2797, 2799, 2800, 2803, 2804, 2805, 2806, 2807, 2808, 2809, 2810, 2811, 2812, 2813, 2815, 2816, 2817, 2819, 2820, 2821, 2823, 2824, 2825, 2827, 2828, 2829, 2830, 2832, 2833, 2836, 2837, 2839, 2840, 2841, 2844, 2845, 2847, 2848, 2849, 2850, 2851, 2852, 2853, 2855, 2856, 2857, 2859, 2860, 2861, 2863, 2864, 2865, 2867, 2868, 2869, 2871, 2872, 2873, 2875, 2876, 2877, 2879, 2880, 2881, 2883, 2884, 2885, 2887, 2888, 2889, 2891, 2892, 2893, 2895, 2896, 2897, 2899, 2900, 2901, 2903, 2904, 2905, 2907, 2908, 2909, 2910, 2911, 2912, 2913, 2916, 2917, 2919, 2920, 2921, 2923, 2924, 2925, 2927, 2928, 2929, 2930, 2931, 2932, 2933, 2935, 2936, 2937, 2939, 2940, 2941, 2943, 2944, 2945, 2947, 2948, 2949, 2951, 2952, 2953, 2955, 2956, 2957, 2959, 2960, 2963, 2964, 2965, 2967, 2968, 2969, 2971, 2972, 2973, 2975, 2976, 2977, 2979, 2980, 2981, 2983, 2984, 2985, 2987, 2988, 2989, 2991, 2992, 2993, 2995, 2996, 2997, 2999, 3000, 3001, 3003, 3004, 3005, 3007, 3008, 3009, 3011, 3012, 3013, 3015, 3016, 3017, 3019, 3020, 3021, 3023, 3024, 3025, 3027, 3028, 3029, 3031, 3032, 3033, 3035, 3036, 3037, 3039, 3040, 3041, 3043, 3044, 3045, 3047, 3048, 3049, 3051, 3052, 3053, 3055, 3056, 3057, 3059, 3060, 3061, 3062, 3063, 3064, 3065, 3067, 3068, 3069, 3071, 3072, 3073, 3075, 3076, 3077, 3079, 3080, 3081, 3083, 3084, 3085, 3087, 3088, 3089, 3092, 3094, 3096, 3097, 3099, 3100, 3101, 3103, 3104, 3105, 3107, 3108, 3109, 3111, 3112, 3113, 3115, 3116, 3117, 3119, 3120, 3121, 3123, 3124, 3125, 3127, 3128, 3129, 3131, 3132, 3133, 3135, 3136, 3137, 3139, 3140, 3141, 3143, 3144, 3145, 3147, 3148, 3149, 3151, 3152, 3153, 3155, 3156, 3157, 3160, 3161, 3163, 3164, 3165, 3167, 3168, 3169, 3171, 3172, 3173, 3176, 3177, 3180, 3181, 3183, 3184, 3185, 3187, 3188, 3189, 3191, 3192, 3193, 3196, 3197, 3199, 3200, 3203, 3204, 3205, 3207, 3208, 3209, 3211, 3212, 3213, 3215, 3216, 3217, 3219, 3220, 3221, 3223, 3224, 3225, 3227, 3228, 3229, 3231, 3232, 3233, 3235, 3236, 3237, 3239, 3240, 3241, 3243, 3244, 3245, 3247, 3248, 3249, 3251, 3252, 3253, 3255, 3256, 3257, 3259, 3260, 3261, 3263, 3264, 3265, 3268, 3269, 3271, 3272, 3273, 3276, 3277, 3279, 3280, 3281, 3283, 3284, 3285, 3287, 3288, 3289, 3291, 3292, 3293, 3295, 3296, 3297, 3299, 3300, 3301, 3303, 3304, 3305, 3307, 3308, 3309, 3311, 3312, 3313, 3315, 3316, 3317, 3319, 3320, 3323, 3324, 3325, 3328, 3329, 3331, 3332, 3333, 3335, 3336, 3337, 3339, 3340, 3341, 3343, 3344, 3345, 3347, 3348, 3349, 3351, 3352, 3353, 3355, 3356, 3357, 3359, 3360, 3361, 3363, 3364, 3365, 3368, 3369, 3371, 3372, 3373, 3375, 3376, 3377, 3379, 3380, 3381, 3383, 3384, 3385, 3387, 3388, 3389, 3391, 3392, 3393, 3394, 3395, 3396, 3397, 3399, 3400, 3401, 3404, 3405, 3407, 3408, 3409, 3411, 3412, 3413, 3415, 3416, 3417, 3420, 3421, 3424, 3425, 3427, 3428, 3429, 3431, 3432, 3433, 3435, 3436, 3437, 3439, 3440, 3441, 3443, 3444, 3445, 3447, 3448, 3451, 3452, 3453, 3455, 3456, 3457, 3459, 3460, 3464, 3465, 3467, 3468, 3469, 3471, 3472, 3473, 3475, 3476, 3477, 3479, 3480, 3481, 3483, 3484, 3485, 3487, 3488, 3489, 3491, 3492, 3493, 3495, 3496, 3497, 3499, 3500, 3501, 3503, 3504, 3505, 3507, 3508, 3509, 3511, 3512, 3513, 3515, 3516, 3517, 3519, 3520, 3521, 3523, 3524, 3527, 3528, 3529, 3530, 3531, 3532, 3533, 3535, 3536, 3537, 3540, 3541, 3543, 3544, 3545, 3547, 3548, 3549, 3551, 3552, 3553, 3555, 3556, 3557, 3559, 3560, 3561, 3563, 3564, 3565, 3567, 3568, 3569, 3572, 3576, 3579, 3580, 3581, 3584, 3585, 3587, 3588, 3589, 3591, 3592, 3593, 3596, 3597, 3600, 3603, 3604, 3605, 3607, 3608, 3609, 3611, 3612, 3613, 3615, 3616, 3617, 3620, 3621, 3623, 3624, 3625, 3627, 3628, 3629, 3632, 3633, 3635, 3636, 3637, 3639, 3640, 3641, 3643, 3644, 3645, 3647, 3648, 3649, 3651, 3652, 3653, 3655, 3656, 3657, 3659, 3660, 3663, 3664, 3665, 3667, 3668, 3669, 3672, 3673, 3675, 3676, 3677, 3679, 3680, 3681, 3683, 3684, 3685, 3688, 3689, 3691, 3692, 3693, 3695, 3696, 3697, 3699, 3700, 3701, 3703, 3704, 3705, 3707, 3708, 3709, 3711, 3712, 3713, 3715, 3716, 3717, 3719, 3720, 3721, 3723, 3724, 3725, 3727, 3728, 3729, 3731, 3732, 3735, 3736, 3737, 3739, 3740, 3741, 3744, 3745, 3747, 3748, 3751, 3752, 3753, 3756, 3757, 3759, 3760, 3761, 3764, 3765, 3767, 3768, 3769, 3771, 3772, 3773, 3775, 3776, 3777, 3780, 3781, 3783, 3784, 3785, 3787, 3788, 3789, 3791, 3792, 3793, 3795, 3796, 3797, 3799, 3800, 3801, 3803, 3804, 3805, 3807, 3808, 3809, 3811, 3812, 3813, 3815, 3816, 3817, 3819, 3820, 3821, 3823, 3824, 3825, 3827, 3828, 3829, 3831, 3832, 3833, 3835, 3836, 3837, 3839, 3840, 3841, 3843, 3844, 3845, 3847, 3848, 3849, 3851, 3852, 3853, 3854, 3856, 3857, 3859, 3860, 3863, 3864, 3865, 3867, 3868, 3869, 3871, 3872, 3873, 3875, 3876, 3877, 3879, 3880, 3881, 3883, 3884, 3885, 3887, 3888, 3889, 3891, 3892, 3893, 3895, 3896, 3899, 3900, 3901, 3903, 3904, 3905, 3907, 3908, 3909, 3911, 3912, 3913, 3915, 3916, 3917, 3919, 3920, 3921, 3923, 3924, 3925, 3927, 3928, 3929, 3931, 3932, 3933, 3936, 3937, 3939, 3940, 3943, 3944, 3945, 3947, 3948, 3949, 3951, 3952, 3953, 3955, 3956, 3957, 3959, 3960, 3961, 3963, 3964, 3965, 3967, 3968, 3969, 3972, 3973, 3976, 3977, 3979, 3980, 3981, 3983, 3984, 3985, 3987, 3988, 3989, 3991, 3992, 3993, 3995, 3996, 3999, 4000, 4003, 4004, 4005, 4007, 4008, 4009, 4011, 4012, 4013, 4015, 4016, 4017, 4019, 4020, 4023, 4024, 4028, 4029, 4031, 4032, 4033, 4035, 4036, 4037, 4040, 4041, 4044, 4045, 4048, 4049, 4051, 4052, 4053, 4056, 4057, 4060, 4061, 4064, 4065, 4067, 4068, 4069, 4071, 4072, 4073, 4075, 4076, 4077, 4079, 4080, 4081, 4082, 4084, 4085, 4088, 4089, 4092, 4093, 4095, 4096, 4097, 4099, 4100, 4103, 4104, 4105, 4107, 4108, 4109, 4111, 4112, 4113, 4115, 4116, 4117, 4119, 4120, 4123, 4124, 4125, 4127, 4128, 4129, 4131, 4132, 4133, 4135, 4136, 4137, 4139, 4140, 4141, 4143, 4144, 4145, 4148, 4149, 4151, 4152, 4153, 4155, 4156, 4157, 4159, 4160, 4161, 4163, 4164, 4165, 4167, 4168, 4169, 4172, 4173, 4175, 4176, 4177, 4179, 4180, 4181, 4182, 4183, 4184, 4185, 4187, 4188, 4189, 4191, 4192, 4195, 4196, 4197, 4199, 4200, 4203, 4204, 4205, 4207, 4208, 4209, 4212, 4215, 4216, 4217, 4219, 4220, 4221, 4223, 4224, 4225, 4227, 4228, 4229, 4231, 4232, 4233, 4235, 4236, 4239, 4240, 4241, 4243, 4244, 4245, 4247, 4248, 4249, 4251, 4252, 4253, 4255, 4256, 4257, 4259, 4260, 4261, 4263, 4264, 4265, 4268, 4269, 4270, 4271, 4272, 4276, 4277, 4279, 4280, 4281, 4283, 4284, 4285, 4287, 4288, 4289, 4291, 4292, 4293, 4295, 4296, 4297, 4299, 4300, 4301, 4304, 4305, 4308, 4309, 4311, 4312, 4313, 4315, 4316, 4317, 4319, 4320, 4321, 4323, 4324, 4327, 4328, 4329, 4331, 4332, 4333, 4336, 4337, 4339, 4340, 4341, 4343, 4344, 4345, 4347, 4348, 4349, 4350, 4351, 4352, 4353, 4355, 4356, 4357, 4359, 4360, 4361, 4363, 4364, 4365, 4368, 4369, 4371, 4372, 4376, 4377, 4379, 4380, 4381, 4383, 4384, 4385, 4387, 4388, 4389, 4391, 4392, 4393, 4396, 4397, 4399, 4400, 4401, 4403, 4404, 4405, 4407, 4408, 4409, 4411, 4412, 4413, 4415, 4416, 4417, 4419, 4420, 4421, 4423, 4424, 4425, 4427, 4428, 4429, 4430, 4431, 4432, 4433, 4435, 4436, 4437, 4439, 4440, 4441, 4444, 4447, 4448, 4449, 4451, 4452, 4453, 4455, 4456, 4457, 4459, 4460, 4461, 4463, 4464, 4465, 4468, 4469, 4471, 4472, 4476, 4477, 4479, 4480, 4481, 4483, 4484, 4485, 4487, 4488, 4489, 4491, 4492, 4493, 4495, 4496, 4497, 4499, 4500, 4503, 4504, 4507, 4508, 4509, 4511, 4512, 4513, 4515, 4516, 4517, 4519, 4520, 4521, 4524, 4525, 4528, 4531, 4532, 4533, 4535, 4536, 4537, 4539, 4540, 4541, 4543, 4544, 4547, 4548, 4549, 4552, 4553, 4555, 4556, 4557, 4560, 4561, 4564, 4565, 4567, 4568, 4569, 4572, 4573, 4575, 4576, 4577, 4579, 4580, 4581, 4583, 4584, 4585, 4587, 4588, 4589, 4591, 4592, 4593, 4596, 4597, 4600, 4601, 4603, 4604, 4605, 4607, 4608, 4611, 4612, 4613, 4615, 4616, 4617, 4619, 4620, 4621, 4623, 4624, 4625, 4627, 4628, 4631, 4632, 4633, 4636, 4640, 4641, 4643, 4644, 4645, 4648, 4651, 4652, 4655, 4656, 4657, 4660, 4661, 4664, 4665, 4668, 4669, 4672, 4673, 4676, 4677, 4679, 4680, 4681, 4684, 4688, 4689, 4691, 4692, 4693, 4696, 4697, 4700, 4701, 4704, 4705, 4707, 4708, 4709, 4711, 4712, 4713, 4716, 4717, 4719, 4720, 4723, 4724, 4725, 4727, 4728, 4732, 4733, 4735, 4736, 4737, 4739, 4740, 4741, 4743, 4744, 4745, 4748, 4749, 4750, 4751, 4752, 4753, 4755, 4756, 4757, 4759, 4760, 4761, 4764, 4765, 4768, 4769, 4772, 4773, 4775, 4776, 4777, 4780, 4781, 4783, 4784, 4785, 4787, 4788, 4789, 4792, 4795, 4796, 4797, 4799, 4800, 4803, 4804, 4805, 4807, 4808, 4809, 4811, 4812, 4813, 4816, 4817, 4820, 4821, 4823, 4824, 4827, 4828, 4829, 4831, 4832, 4833, 4836, 4837, 4839, 4840, 4841, 4844, 4848, 4849, 4851, 4852, 4853, 4855, 4856, 4857, 4859, 4860, 4861, 4864, 4865, 4867, 4868, 4869, 4871, 4872, 4873, 4876, 4877, 4879, 4880, 4881, 4883, 4884, 4885, 4888, 4889, 4891, 4892, 4893, 4895, 4896, 4897, 4899, 4900, 4903, 4904, 4908, 4911, 4912, 4914, 4916, 4917, 4920, 4921, 4923, 4924, 4928, 4929, 4931, 4932, 4933, 4936, 4937, 4939, 4940, 4941, 4943, 4944, 4945, 4947, 4948, 4951, 4952, 4955, 4956, 4957, 4959, 4960, 4961, 4964, 4965, 4967, 4968, 4969, 4972, 4973, 4976, 4977, 4979, 4980, 4981, 4983, 4984, 4985, 4988, 4991, 4992, 4993, 4996, 4997, 5000, 5004, 5005, 5008, 5011, 5012, 5013, 5015, 5016, 5017, 5019, 5020, 5021, 5023, 5024, 5025, 5027, 5028, 5029, 5031, 5032, 5033, 5036, 5037, 5039, 5040, 5045, 5047, 5048, 5049, 5052, 5055, 5056, 5057, 5060, 5061, 5063, 5064, 5065, 5067, 5068, 5069, 5071, 5072, 5073, 5076, 5079, 5080, 5084, 5085, 5087, 5088, 5089, 5092, 5093, 5095, 5096, 5097, 5099, 5100, 5103, 5104, 5108, 5109, 5111, 5112, 5115, 5116, 5117, 5119, 5120, 5121, 5124, 5125, 5128, 5129, 5131, 5132, 5136, 5139, 5140, 5141, 5144, 5145, 5147, 5148, 5149, 5151, 5152, 5153, 5156, 5159, 5160, 5163, 5164, 5165, 5167, 5168, 5169, 5171, 5172, 5173, 5176, 5177, 5180, 5181, 5184, 5185, 5187, 5188, 5189, 5192, 5193, 5196, 5200, 5201, 5204, 5208, 5211, 5212, 5213, 5214, 5215, 5216, 5217, 5220, 5221, 5223, 5224, 5225, 5227, 5228, 5229, 5231, 5232, 5235, 5236, 5237, 5239, 5240, 5243, 5244, 5247, 5248, 5249, 5251, 5252, 5253, 5256, 5257, 5260, 5261, 5264, 5266, 5267, 5268, 5269, 5272, 5276, 5277, 5279, 5280, 5281, 5284, 5288, 5289, 5291, 5292, 5295, 5296, 5297, 5300, 5301, 5304, 5305, 5308, 5309, 5312, 5313, 5316, 5317, 5319, 5320, 5324, 5325, 5328, 5329, 5332, 5333, 5336, 5337, 5339, 5340, 5341, 5344, 5345, 5347, 5348, 5349, 5352, 5353, 5355, 5356, 5357, 5360, 5361, 5364, 5365, 5368, 5369, 5371, 5373, 5375, 5376, 5377, 5379, 5380, 5384, 5387, 5388, 5391, 5392, 5393, 5396, 5397, 5400, 5401, 5404, 5405, 5408, 5411, 5412, 5413, 5416, 5417, 5420, 5423, 5424, 5425, 5427, 5428, 5429, 5432, 5433, 5435, 5436, 5437, 5440, 5441, 5443, 5444, 5445, 5447, 5448, 5449, 5451, 5452, 5453, 5456, 5459, 5460, 5464, 5465, 5467, 5469, 5472, 5473, 5475, 5476, 5480, 5481, 5484, 5485, 5487, 5492, 5497, 5500, 5501, 5504, 5505, 5508, 5512, 5513, 5516, 5520, 5523, 5524, 5525, 5528, 5532, 5535, 5537, 5540, 5543, 5545, 5548, 5549, 5552, 5553, 5555, 5556, 5557, 5560, 5561, 5563, 5564, 5568, 5569, 5572, 5573, 5576, 5577, 5580, 5584, 5588, 5591, 5592, 5593, 5595, 5596, 5600, 5601, 5604, 5605, 5608, 5611, 5612, 5615, 5616, 5620, 5621, 5624, 5628, 5629, 5632, 5633, 5639, 5640, 5641, 5644, 5645, 5647, 5648, 5652, 5655, 5656, 5657, 5658, 5660, 5665, 5668, 5669, 5672, 5673, 5675, 5676, 5680, 5684, 5685, 5691, 5692, 5695, 5696, 5697, 5700, 5703, 5704, 5708, 5711, 5712, 5716, 5719, 5720, 5724, 5728, 5729, 5732, 5737, 5739, 5740, 5743, 5744, 5745, 5746, 5747, 5748, 5751, 5752, 5756, 5757, 5764, 5767, 5768, 5769, 5780, 5783, 5784, 5785, 5788, 5792, 5793, 5796, 5800, 5804, 5805, 5808, 5812, 5815, 5816, 5817, 5820, 5821, 5824, 5828, 5829, 5832, 5836, 5840, 5843, 5844, 5847, 5848, 5851, 5852, 5853, 5855, 5857, 5859, 5863, 5864, 5865, 5867, 5871, 5872, 5873, 5876, 5880, 5881, 5885, 5888, 5889, 5891, 5892, 5895, 5900, 5904, 5905, 5907, 5908, 5916, 5919, 5920, 5921, 5924, 5925, 5928, 5931, 5932, 5936, 5937, 5939, 5940, 5943, 5944, 5948, 5961, 5965, 5968, 5972, 5973, 5975, 5977, 5979, 5980, 5984, 5988, 5992, 5996, 6004, 6008, 6009, 6012, 6013, 6015, 6020, 6025, 6028, 6031, 6044, 6047, 6048, 6052, 6060, 6061, 6063, 6068, 6080, 6085, 6088, 6092, 6096, 6104, 6112, 6124, 6129, 6136, 6140, 6147, 6151, 6161, 6164, 6168, 6172, 6175, 6179, 6180, 6188, 6191, 6196, 6232, 6233, 6235, 6236, 6239, 6252, 6259, 6264, 6273, 6292, 6296, 6297, 6304, 6308, 6319, 6320, 6328, 6329, 6345, 6349, 6352, 6360, 6368, 6372, 6376, 6384, 6396, 6404, 6408, 6412, 6420, 6444, 6449, 6451, 6452, 6456, 6460, 6468, 6475, 6476, 6481, 6484, 6485, 6496, 6497, 6504, 6508, 6536, 6537, 6540, 6548, 6552, 6555, 6560, 6571, 6580, 6588, 6600, 6603, 6604, 6616, 6617, 6620, 6624, 6625, 6632, 6655, 6656, 6657, 6669, 6673, 6676, 6684, 6689, 6692, 6708, 6712, 6728, 6760, 6764, 6784, 6785, 6792, 6796, 6808, 6820, 6848, 6857, 6864, 6867, 6872, 6877, 6884, 6892, 6900, 6901, 6908, 6912, 6924, 6925, 6928, 6936, 6943, 6948, 6953, 6956, 6960, 6968, 6992, 7004, 7016, 7028, 7036, 7048, 7092, 7128, 7148}\n"
     ]
    }
   ],
   "source": [
    "print(set(merged_df[\"intensidad\"]))"
   ]
  },
  {
   "cell_type": "code",
   "execution_count": 89,
   "metadata": {},
   "outputs": [
    {
     "data": {
      "text/plain": [
       "[<matplotlib.lines.Line2D at 0x27856ad6ee0>]"
      ]
     },
     "execution_count": 89,
     "metadata": {},
     "output_type": "execute_result"
    },
    {
     "data": {
      "image/png": "[encoded data removed]",
      "text/plain": [
       "<Figure size 432x288 with 1 Axes>"
      ]
     },
     "metadata": {
      "needs_background": "light"
     },
     "output_type": "display_data"
    }
   ],
   "source": [
    "X = merged_df[\"intensidad\"][:1000]\n",
    "y = merged_df[\"fecha\"][:1000]\n",
    "\n",
    "plt.plot(y, X)"
   ]
  },
  {
   "cell_type": "code",
   "execution_count": 90,
   "metadata": {},
   "outputs": [],
   "source": [
    "def df_day(day, dataframe):\n",
    "\n",
    "    filtro = (\n",
    "        (dataframe['fecha'].dt.day == day)\n",
    "    )\n",
    "\n",
    "    return dataframe[filtro].groupby('fecha')['intensidad'].mean().reset_index()"
   ]
  },
  {
   "cell_type": "markdown",
   "metadata": {},
   "source": [
    "Sin media"
   ]
  },
  {
   "cell_type": "code",
   "execution_count": 22,
   "metadata": {},
   "outputs": [],
   "source": [
    "def df_day_sin(day, dataframe):\n",
    "\n",
    "    filtro = (\n",
    "        (dataframe['fecha'].dt.day == day)\n",
    "    )\n",
    "\n",
    "    return dataframe[filtro][['fecha','intensidad']]"
   ]
  },
  {
   "cell_type": "code",
   "execution_count": 91,
   "metadata": {},
   "outputs": [
    {
     "data": {
      "text/html": [
       "<div>\n",
       "<style scoped>\n",
       "    .dataframe tbody tr th:only-of-type {\n",
       "        vertical-align: middle;\n",
       "    }\n",
       "\n",
       "    .dataframe tbody tr th {\n",
       "        vertical-align: top;\n",
       "    }\n",
       "\n",
       "    .dataframe thead th {\n",
       "        text-align: right;\n",
       "    }\n",
       "</style>\n",
       "<table border=\"1\" class=\"dataframe\">\n",
       "  <thead>\n",
       "    <tr style=\"text-align: right;\">\n",
       "      <th></th>\n",
       "      <th>fecha</th>\n",
       "      <th>intensidad</th>\n",
       "    </tr>\n",
       "  </thead>\n",
       "  <tbody>\n",
       "    <tr>\n",
       "      <th>0</th>\n",
       "      <td>2023-10-10 06:00:00</td>\n",
       "      <td>560.224638</td>\n",
       "    </tr>\n",
       "    <tr>\n",
       "      <th>1</th>\n",
       "      <td>2023-10-10 06:15:00</td>\n",
       "      <td>783.557971</td>\n",
       "    </tr>\n",
       "    <tr>\n",
       "      <th>2</th>\n",
       "      <td>2023-10-10 06:30:00</td>\n",
       "      <td>1193.996377</td>\n",
       "    </tr>\n",
       "    <tr>\n",
       "      <th>3</th>\n",
       "      <td>2023-10-10 06:45:00</td>\n",
       "      <td>1453.884615</td>\n",
       "    </tr>\n",
       "    <tr>\n",
       "      <th>4</th>\n",
       "      <td>2023-10-10 07:00:00</td>\n",
       "      <td>1598.145098</td>\n",
       "    </tr>\n",
       "    <tr>\n",
       "      <th>5</th>\n",
       "      <td>2023-10-10 07:15:00</td>\n",
       "      <td>1825.949219</td>\n",
       "    </tr>\n",
       "    <tr>\n",
       "      <th>6</th>\n",
       "      <td>2023-10-10 07:30:00</td>\n",
       "      <td>2031.726190</td>\n",
       "    </tr>\n",
       "    <tr>\n",
       "      <th>7</th>\n",
       "      <td>2023-10-10 07:45:00</td>\n",
       "      <td>2253.200000</td>\n",
       "    </tr>\n",
       "    <tr>\n",
       "      <th>8</th>\n",
       "      <td>2023-10-10 08:00:00</td>\n",
       "      <td>2312.737452</td>\n",
       "    </tr>\n",
       "  </tbody>\n",
       "</table>\n",
       "</div>"
      ],
      "text/plain": [
       "                fecha   intensidad\n",
       "0 2023-10-10 06:00:00   560.224638\n",
       "1 2023-10-10 06:15:00   783.557971\n",
       "2 2023-10-10 06:30:00  1193.996377\n",
       "3 2023-10-10 06:45:00  1453.884615\n",
       "4 2023-10-10 07:00:00  1598.145098\n",
       "5 2023-10-10 07:15:00  1825.949219\n",
       "6 2023-10-10 07:30:00  2031.726190\n",
       "7 2023-10-10 07:45:00  2253.200000\n",
       "8 2023-10-10 08:00:00  2312.737452"
      ]
     },
     "execution_count": 91,
     "metadata": {},
     "output_type": "execute_result"
    }
   ],
   "source": [
    "df = df_day(10, merged_df)\n",
    "\n",
    "df"
   ]
  },
  {
   "cell_type": "code",
   "execution_count": 92,
   "metadata": {},
   "outputs": [
    {
     "data": {
      "text/plain": [
       "[<matplotlib.lines.Line2D at 0x27855fdf280>]"
      ]
     },
     "execution_count": 92,
     "metadata": {},
     "output_type": "execute_result"
    },
    {
     "data": {
      "image/png": "[encoded data removed]",
      "text/plain": [
       "<Figure size 432x288 with 1 Axes>"
      ]
     },
     "metadata": {
      "needs_background": "light"
     },
     "output_type": "display_data"
    }
   ],
   "source": [
    "X = df[\"intensidad\"]\n",
    "y = df[\"fecha\"]\n",
    "\n",
    "plt.plot(y, X)"
   ]
  },
  {
   "cell_type": "code",
   "execution_count": 35,
   "metadata": {},
   "outputs": [
    {
     "name": "stderr",
     "output_type": "stream",
     "text": [
      "C:\\Users\\mussi\\AppData\\Local\\Packages\\PythonSoftwareFoundation.Python.3.9_qbz5n2kfra8p0\\LocalCache\\local-packages\\Python39\\site-packages\\statsmodels\\tsa\\statespace\\sarimax.py:966: UserWarning: Non-stationary starting autoregressive parameters found. Using zeros as starting parameters.\n",
      "  warn('Non-stationary starting autoregressive parameters'\n"
     ]
    }
   ],
   "source": [
    "from statsmodels.tsa.statespace.sarimax import SARIMAX\n",
    "\n",
    "t_missing = 8\n",
    "X_train = df[\"intensidad\"][:-1]\n",
    "X_test = df[\"intensidad\"][-1:]\n",
    "\n",
    "model = SARIMAX(X_train)\n",
    "\n",
    "\n",
    "f = model.fit()\n",
    "\n",
    "p = f.predict(start = t_missing, end = t_missing, dynamic = True)"
   ]
  },
  {
   "cell_type": "code",
   "execution_count": 36,
   "metadata": {},
   "outputs": [
    {
     "data": {
      "text/plain": [
       "0     560.224638\n",
       "1     783.557971\n",
       "2    1193.996377\n",
       "3    1453.884615\n",
       "4    1598.145098\n",
       "5    1825.949219\n",
       "6    2031.726190\n",
       "7    2253.200000\n",
       "8    2226.089842\n",
       "dtype: float64"
      ]
     },
     "execution_count": 36,
     "metadata": {},
     "output_type": "execute_result"
    }
   ],
   "source": [
    "new = pd.concat([X_train, p])\n",
    "new"
   ]
  },
  {
   "cell_type": "code",
   "execution_count": 37,
   "metadata": {},
   "outputs": [
    {
     "data": {
      "image/png": "[encoded data removed]",
      "text/plain": [
       "<Figure size 432x288 with 1 Axes>"
      ]
     },
     "metadata": {
      "needs_background": "light"
     },
     "output_type": "display_data"
    }
   ],
   "source": [
    "plt.plot(df[\"intensidad\"], label='Datos reales')\n",
    "plt.plot(new, color='orange', label='Predicciones')\n",
    "plt.plot(X_train, color='red', label='Datos de entrenamiento')\n",
    "plt.legend()\n",
    "\n",
    "# Mostramos la figura\n",
    "plt.show()"
   ]
  },
  {
   "cell_type": "code",
   "execution_count": 104,
   "metadata": {},
   "outputs": [],
   "source": [
    "total2 = pd.DataFrame()\n",
    "\n",
    "for i in range(1,31):\n",
    "    a = df_day(i, merged_df)\n",
    "    total2 = pd.concat([total2,a])"
   ]
  },
  {
   "cell_type": "code",
   "execution_count": 105,
   "metadata": {},
   "outputs": [],
   "source": [
    "total2.reset_index(drop=True,inplace=True)\n"
   ]
  },
  {
   "cell_type": "code",
   "execution_count": 106,
   "metadata": {},
   "outputs": [
    {
     "data": {
      "text/html": [
       "<div>\n",
       "<style scoped>\n",
       "    .dataframe tbody tr th:only-of-type {\n",
       "        vertical-align: middle;\n",
       "    }\n",
       "\n",
       "    .dataframe tbody tr th {\n",
       "        vertical-align: top;\n",
       "    }\n",
       "\n",
       "    .dataframe thead th {\n",
       "        text-align: right;\n",
       "    }\n",
       "</style>\n",
       "<table border=\"1\" class=\"dataframe\">\n",
       "  <thead>\n",
       "    <tr style=\"text-align: right;\">\n",
       "      <th></th>\n",
       "      <th>fecha</th>\n",
       "      <th>intensidad</th>\n",
       "    </tr>\n",
       "  </thead>\n",
       "  <tbody>\n",
       "    <tr>\n",
       "      <th>0</th>\n",
       "      <td>2023-10-02 06:00:00</td>\n",
       "      <td>569.417266</td>\n",
       "    </tr>\n",
       "    <tr>\n",
       "      <th>1</th>\n",
       "      <td>2023-10-02 06:15:00</td>\n",
       "      <td>783.189964</td>\n",
       "    </tr>\n",
       "    <tr>\n",
       "      <th>2</th>\n",
       "      <td>2023-10-02 06:30:00</td>\n",
       "      <td>1157.308244</td>\n",
       "    </tr>\n",
       "    <tr>\n",
       "      <th>3</th>\n",
       "      <td>2023-10-02 06:45:00</td>\n",
       "      <td>1440.795455</td>\n",
       "    </tr>\n",
       "    <tr>\n",
       "      <th>4</th>\n",
       "      <td>2023-10-02 07:00:00</td>\n",
       "      <td>1598.361538</td>\n",
       "    </tr>\n",
       "    <tr>\n",
       "      <th>...</th>\n",
       "      <td>...</td>\n",
       "      <td>...</td>\n",
       "    </tr>\n",
       "    <tr>\n",
       "      <th>184</th>\n",
       "      <td>2023-10-30 07:00:00</td>\n",
       "      <td>1520.616858</td>\n",
       "    </tr>\n",
       "    <tr>\n",
       "      <th>185</th>\n",
       "      <td>2023-10-30 07:15:00</td>\n",
       "      <td>1679.680769</td>\n",
       "    </tr>\n",
       "    <tr>\n",
       "      <th>186</th>\n",
       "      <td>2023-10-30 07:30:00</td>\n",
       "      <td>1890.366142</td>\n",
       "    </tr>\n",
       "    <tr>\n",
       "      <th>187</th>\n",
       "      <td>2023-10-30 07:45:00</td>\n",
       "      <td>2010.085271</td>\n",
       "    </tr>\n",
       "    <tr>\n",
       "      <th>188</th>\n",
       "      <td>2023-10-30 08:00:00</td>\n",
       "      <td>2135.151751</td>\n",
       "    </tr>\n",
       "  </tbody>\n",
       "</table>\n",
       "<p>189 rows × 2 columns</p>\n",
       "</div>"
      ],
      "text/plain": [
       "                  fecha   intensidad\n",
       "0   2023-10-02 06:00:00   569.417266\n",
       "1   2023-10-02 06:15:00   783.189964\n",
       "2   2023-10-02 06:30:00  1157.308244\n",
       "3   2023-10-02 06:45:00  1440.795455\n",
       "4   2023-10-02 07:00:00  1598.361538\n",
       "..                  ...          ...\n",
       "184 2023-10-30 07:00:00  1520.616858\n",
       "185 2023-10-30 07:15:00  1679.680769\n",
       "186 2023-10-30 07:30:00  1890.366142\n",
       "187 2023-10-30 07:45:00  2010.085271\n",
       "188 2023-10-30 08:00:00  2135.151751\n",
       "\n",
       "[189 rows x 2 columns]"
      ]
     },
     "execution_count": 106,
     "metadata": {},
     "output_type": "execute_result"
    }
   ],
   "source": [
    "total2"
   ]
  },
  {
   "cell_type": "code",
   "execution_count": 39,
   "metadata": {},
   "outputs": [],
   "source": [
    "from statsmodels.tsa.arima.model import ARIMA"
   ]
  },
  {
   "cell_type": "code",
   "execution_count": 119,
   "metadata": {},
   "outputs": [
    {
     "name": "stderr",
     "output_type": "stream",
     "text": [
      "C:\\Users\\mussi\\AppData\\Local\\Packages\\PythonSoftwareFoundation.Python.3.9_qbz5n2kfra8p0\\LocalCache\\local-packages\\Python39\\site-packages\\statsmodels\\tsa\\statespace\\sarimax.py:978: UserWarning: Non-invertible starting MA parameters found. Using zeros as starting parameters.\n",
      "  warn('Non-invertible starting MA parameters found.'\n",
      "C:\\Users\\mussi\\AppData\\Local\\Packages\\PythonSoftwareFoundation.Python.3.9_qbz5n2kfra8p0\\LocalCache\\local-packages\\Python39\\site-packages\\statsmodels\\tsa\\statespace\\kalman_filter.py:2473: ValueWarning: Dynamic prediction specified to begin during out-of-sample forecasting period, and so has no effect.\n",
      "  warn('Dynamic prediction specified to begin during'\n"
     ]
    },
    {
     "data": {
      "text/html": [
       "<div>\n",
       "<style scoped>\n",
       "    .dataframe tbody tr th:only-of-type {\n",
       "        vertical-align: middle;\n",
       "    }\n",
       "\n",
       "    .dataframe tbody tr th {\n",
       "        vertical-align: top;\n",
       "    }\n",
       "\n",
       "    .dataframe thead th {\n",
       "        text-align: right;\n",
       "    }\n",
       "</style>\n",
       "<table border=\"1\" class=\"dataframe\">\n",
       "  <thead>\n",
       "    <tr style=\"text-align: right;\">\n",
       "      <th></th>\n",
       "      <th>fecha</th>\n",
       "      <th>intensidad</th>\n",
       "    </tr>\n",
       "  </thead>\n",
       "  <tbody>\n",
       "    <tr>\n",
       "      <th>0</th>\n",
       "      <td>2023-10-02 06:00:00</td>\n",
       "      <td>569.417266</td>\n",
       "    </tr>\n",
       "    <tr>\n",
       "      <th>1</th>\n",
       "      <td>2023-10-02 06:15:00</td>\n",
       "      <td>783.189964</td>\n",
       "    </tr>\n",
       "    <tr>\n",
       "      <th>2</th>\n",
       "      <td>2023-10-02 06:30:00</td>\n",
       "      <td>1157.308244</td>\n",
       "    </tr>\n",
       "    <tr>\n",
       "      <th>3</th>\n",
       "      <td>2023-10-02 06:45:00</td>\n",
       "      <td>1440.795455</td>\n",
       "    </tr>\n",
       "    <tr>\n",
       "      <th>4</th>\n",
       "      <td>2023-10-02 07:00:00</td>\n",
       "      <td>1598.361538</td>\n",
       "    </tr>\n",
       "    <tr>\n",
       "      <th>...</th>\n",
       "      <td>...</td>\n",
       "      <td>...</td>\n",
       "    </tr>\n",
       "    <tr>\n",
       "      <th>184</th>\n",
       "      <td>2023-10-30 07:00:00</td>\n",
       "      <td>1520.616858</td>\n",
       "    </tr>\n",
       "    <tr>\n",
       "      <th>185</th>\n",
       "      <td>2023-10-30 07:15:00</td>\n",
       "      <td>1679.680769</td>\n",
       "    </tr>\n",
       "    <tr>\n",
       "      <th>186</th>\n",
       "      <td>2023-10-30 07:30:00</td>\n",
       "      <td>1890.366142</td>\n",
       "    </tr>\n",
       "    <tr>\n",
       "      <th>187</th>\n",
       "      <td>2023-10-30 07:45:00</td>\n",
       "      <td>2010.085271</td>\n",
       "    </tr>\n",
       "    <tr>\n",
       "      <th>188</th>\n",
       "      <td>2023-10-30 08:00:00</td>\n",
       "      <td>2135.151751</td>\n",
       "    </tr>\n",
       "  </tbody>\n",
       "</table>\n",
       "<p>189 rows × 2 columns</p>\n",
       "</div>"
      ],
      "text/plain": [
       "                  fecha   intensidad\n",
       "0   2023-10-02 06:00:00   569.417266\n",
       "1   2023-10-02 06:15:00   783.189964\n",
       "2   2023-10-02 06:30:00  1157.308244\n",
       "3   2023-10-02 06:45:00  1440.795455\n",
       "4   2023-10-02 07:00:00  1598.361538\n",
       "..                  ...          ...\n",
       "184 2023-10-30 07:00:00  1520.616858\n",
       "185 2023-10-30 07:15:00  1679.680769\n",
       "186 2023-10-30 07:30:00  1890.366142\n",
       "187 2023-10-30 07:45:00  2010.085271\n",
       "188 2023-10-30 08:00:00  2135.151751\n",
       "\n",
       "[189 rows x 2 columns]"
      ]
     },
     "execution_count": 119,
     "metadata": {},
     "output_type": "execute_result"
    }
   ],
   "source": [
    "from statsmodels.tsa.statespace.sarimax import SARIMAX\n",
    "\n",
    "dia_31 = df_day(31, merged_df)\n",
    "\n",
    "t_missing = [190,198]\n",
    "X_train = total2[\"intensidad\"]\n",
    "\n",
    "X_test = dia_31\n",
    "\n",
    "model = SARIMAX(X_train,order=(0, 3, 2),seasonal_order=(1,1,0,9))\n",
    "\n",
    "\n",
    "f = model.fit()\n",
    "\n",
    "p = f.predict(start = t_missing[0], end = t_missing[1], dynamic = True)\n",
    "\n",
    "total2"
   ]
  },
  {
   "cell_type": "code",
   "execution_count": 120,
   "metadata": {},
   "outputs": [
    {
     "data": {
      "image/png": "[encoded data removed]",
      "text/plain": [
       "<Figure size 432x288 with 1 Axes>"
      ]
     },
     "metadata": {
      "needs_background": "light"
     },
     "output_type": "display_data"
    }
   ],
   "source": [
    "plt.plot(X_train, color='red', label='Datos de entrenamiento')\n",
    "plt.plot(p, color='orange', label='Predicciones')\n",
    "\n",
    "plt.legend()\n",
    "\n",
    "# Mostramos la figura\n",
    "plt.show()"
   ]
  }
 ],
 "metadata": {
  "kernelspec": {
   "display_name": "Python 3",
   "language": "python",
   "name": "python3"
  },
  "language_info": {
   "codemirror_mode": {
    "name": "ipython",
    "version": 3
   },
   "file_extension": ".py",
   "mimetype": "text/x-python",
   "name": "python",
   "nbconvert_exporter": "python",
   "pygments_lexer": "ipython3",
   "version": "3.9.13"
  }
 },
 "nbformat": 4,
 "nbformat_minor": 2
}
